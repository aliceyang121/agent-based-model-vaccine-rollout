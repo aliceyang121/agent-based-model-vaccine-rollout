{
 "cells": [
  {
   "cell_type": "code",
   "execution_count": 184,
   "id": "controlling-donna",
   "metadata": {},
   "outputs": [],
   "source": [
    "import sys\n",
    "import pandas as pd\n",
    "import numpy as np\n",
    "import datetime as dt\n",
    "import matplotlib.pyplot as plt\n",
    "import matplotlib.dates as mdates\n",
    "from pygam import LogisticGAM\n",
    "from scipy.optimize import curve_fit\n",
    "from matplotlib import pyplot\n",
    "from numpy import arange\n",
    "pd.options.mode.chained_assignment = None"
   ]
  },
  {
   "cell_type": "code",
   "execution_count": 200,
   "id": "requested-celebration",
   "metadata": {},
   "outputs": [],
   "source": [
    "df = pd.read_csv('covid19vaccinesadministeredbydemographics.csv')\n",
    "copy_df = df[['demographic_category', 'demographic_value', 'administered_date', 'cumulative_at_least_one_dose']].copy().set_index('demographic_category')\n",
    "race_df = copy_df.drop(['Gender', 'Age Group'], axis=0)\n",
    "\n",
    "# Separate into different data frames by race/ethnicity\n",
    "race_copy_df = race_df[['demographic_value', 'administered_date', 'cumulative_at_least_one_dose']].copy().set_index('demographic_value')\n",
    "\n",
    "white_df = race_copy_df.drop(['Latino', 'Multiracial','Asian', 'Other Race', 'Unknown', 'Black or African American', 'Native Hawaiian or Other Pacific Islander', 'American Indian or Alaska Native'], axis=0)\n",
    "latino_df = race_copy_df.drop(['White', 'Multiracial','Asian', 'Other Race', 'Unknown', 'Black or African American', 'Native Hawaiian or Other Pacific Islander', 'American Indian or Alaska Native'], axis=0)\n",
    "multiracial_df = race_copy_df.drop(['Latino', 'White','Asian', 'Other Race', 'Unknown', 'Black or African American', 'Native Hawaiian or Other Pacific Islander', 'American Indian or Alaska Native'], axis=0)\n",
    "asian_df = race_copy_df.drop(['Latino', 'Multiracial','White', 'Other Race', 'Unknown', 'Black or African American', 'Native Hawaiian or Other Pacific Islander', 'American Indian or Alaska Native'], axis=0)\n",
    "other_df = race_copy_df.drop(['Latino', 'Multiracial','Asian', 'White', 'Unknown', 'Black or African American', 'Native Hawaiian or Other Pacific Islander', 'American Indian or Alaska Native'], axis=0)\n",
    "unknown_df = race_copy_df.drop(['Latino', 'Multiracial','Asian', 'Other Race', 'White', 'Black or African American', 'Native Hawaiian or Other Pacific Islander', 'American Indian or Alaska Native'], axis=0)\n",
    "black_df = race_copy_df.drop(['Latino', 'Multiracial','Asian', 'Other Race', 'Unknown', 'White', 'Native Hawaiian or Other Pacific Islander', 'American Indian or Alaska Native'], axis=0)\n",
    "native_df = race_copy_df.drop(['Latino', 'Multiracial','Asian', 'Other Race', 'Unknown', 'Black or African American', 'White', 'American Indian or Alaska Native'], axis=0)\n",
    "indian_df = race_copy_df.drop(['Latino', 'Multiracial','Asian', 'Other Race', 'Unknown', 'Black or African American', 'Native Hawaiian or Other Pacific Islander', 'White'], axis=0)"
   ]
  },
  {
   "cell_type": "code",
   "execution_count": 201,
   "id": "united-gateway",
   "metadata": {},
   "outputs": [
    {
     "data": {
      "text/html": [
       "<div>\n",
       "<style scoped>\n",
       "    .dataframe tbody tr th:only-of-type {\n",
       "        vertical-align: middle;\n",
       "    }\n",
       "\n",
       "    .dataframe tbody tr th {\n",
       "        vertical-align: top;\n",
       "    }\n",
       "\n",
       "    .dataframe thead th {\n",
       "        text-align: right;\n",
       "    }\n",
       "</style>\n",
       "<table border=\"1\" class=\"dataframe\">\n",
       "  <thead>\n",
       "    <tr style=\"text-align: right;\">\n",
       "      <th></th>\n",
       "      <th>day</th>\n",
       "      <th>one_dose</th>\n",
       "    </tr>\n",
       "    <tr>\n",
       "      <th>demographic_value</th>\n",
       "      <th></th>\n",
       "      <th></th>\n",
       "    </tr>\n",
       "  </thead>\n",
       "  <tbody>\n",
       "    <tr>\n",
       "      <th>White</th>\n",
       "      <td>0</td>\n",
       "      <td>0.001901</td>\n",
       "    </tr>\n",
       "    <tr>\n",
       "      <th>White</th>\n",
       "      <td>1</td>\n",
       "      <td>0.013576</td>\n",
       "    </tr>\n",
       "    <tr>\n",
       "      <th>White</th>\n",
       "      <td>2</td>\n",
       "      <td>0.049151</td>\n",
       "    </tr>\n",
       "    <tr>\n",
       "      <th>White</th>\n",
       "      <td>3</td>\n",
       "      <td>0.109144</td>\n",
       "    </tr>\n",
       "    <tr>\n",
       "      <th>White</th>\n",
       "      <td>4</td>\n",
       "      <td>0.140638</td>\n",
       "    </tr>\n",
       "    <tr>\n",
       "      <th>...</th>\n",
       "      <td>...</td>\n",
       "      <td>...</td>\n",
       "    </tr>\n",
       "    <tr>\n",
       "      <th>White</th>\n",
       "      <td>118</td>\n",
       "      <td>21.744338</td>\n",
       "    </tr>\n",
       "    <tr>\n",
       "      <th>White</th>\n",
       "      <td>119</td>\n",
       "      <td>22.025406</td>\n",
       "    </tr>\n",
       "    <tr>\n",
       "      <th>White</th>\n",
       "      <td>120</td>\n",
       "      <td>22.268263</td>\n",
       "    </tr>\n",
       "    <tr>\n",
       "      <th>White</th>\n",
       "      <td>121</td>\n",
       "      <td>22.506043</td>\n",
       "    </tr>\n",
       "    <tr>\n",
       "      <th>White</th>\n",
       "      <td>122</td>\n",
       "      <td>22.638178</td>\n",
       "    </tr>\n",
       "  </tbody>\n",
       "</table>\n",
       "<p>123 rows × 2 columns</p>\n",
       "</div>"
      ],
      "text/plain": [
       "                   day   one_dose\n",
       "demographic_value                \n",
       "White                0   0.001901\n",
       "White                1   0.013576\n",
       "White                2   0.049151\n",
       "White                3   0.109144\n",
       "White                4   0.140638\n",
       "...                ...        ...\n",
       "White              118  21.744338\n",
       "White              119  22.025406\n",
       "White              120  22.268263\n",
       "White              121  22.506043\n",
       "White              122  22.638178\n",
       "\n",
       "[123 rows x 2 columns]"
      ]
     },
     "execution_count": 201,
     "metadata": {},
     "output_type": "execute_result"
    }
   ],
   "source": [
    "white_df['administered_date'] = pd.to_datetime(white_df['administered_date'])\n",
    "white_df['day'] = (white_df['administered_date'] - white_df.iloc[-1]['administered_date']).dt.days\n",
    "white_df['one_dose'] = (((white_df['cumulative_at_least_one_dose'] / 39512000 * 100) / 0.816) /0.7)\n",
    "white_df = white_df.drop(columns=['cumulative_at_least_one_dose', 'administered_date'])\n",
    "white_df = white_df.iloc[::-1]\n",
    "\n",
    "# white_df.to_csv('white.csv')\n",
    "\n",
    "white_df"
   ]
  },
  {
   "cell_type": "code",
   "execution_count": 202,
   "id": "congressional-seeker",
   "metadata": {},
   "outputs": [
    {
     "data": {
      "text/html": [
       "<div>\n",
       "<style scoped>\n",
       "    .dataframe tbody tr th:only-of-type {\n",
       "        vertical-align: middle;\n",
       "    }\n",
       "\n",
       "    .dataframe tbody tr th {\n",
       "        vertical-align: top;\n",
       "    }\n",
       "\n",
       "    .dataframe thead th {\n",
       "        text-align: right;\n",
       "    }\n",
       "</style>\n",
       "<table border=\"1\" class=\"dataframe\">\n",
       "  <thead>\n",
       "    <tr style=\"text-align: right;\">\n",
       "      <th></th>\n",
       "      <th>day</th>\n",
       "      <th>one_dose</th>\n",
       "    </tr>\n",
       "    <tr>\n",
       "      <th>demographic_value</th>\n",
       "      <th></th>\n",
       "      <th></th>\n",
       "    </tr>\n",
       "  </thead>\n",
       "  <tbody>\n",
       "    <tr>\n",
       "      <th>Latino</th>\n",
       "      <td>0</td>\n",
       "      <td>0.000558</td>\n",
       "    </tr>\n",
       "    <tr>\n",
       "      <th>Latino</th>\n",
       "      <td>1</td>\n",
       "      <td>0.005556</td>\n",
       "    </tr>\n",
       "    <tr>\n",
       "      <th>Latino</th>\n",
       "      <td>2</td>\n",
       "      <td>0.024152</td>\n",
       "    </tr>\n",
       "    <tr>\n",
       "      <th>Latino</th>\n",
       "      <td>3</td>\n",
       "      <td>0.052567</td>\n",
       "    </tr>\n",
       "    <tr>\n",
       "      <th>Latino</th>\n",
       "      <td>4</td>\n",
       "      <td>0.068212</td>\n",
       "    </tr>\n",
       "    <tr>\n",
       "      <th>...</th>\n",
       "      <td>...</td>\n",
       "      <td>...</td>\n",
       "    </tr>\n",
       "    <tr>\n",
       "      <th>Latino</th>\n",
       "      <td>118</td>\n",
       "      <td>16.119580</td>\n",
       "    </tr>\n",
       "    <tr>\n",
       "      <th>Latino</th>\n",
       "      <td>119</td>\n",
       "      <td>16.407799</td>\n",
       "    </tr>\n",
       "    <tr>\n",
       "      <th>Latino</th>\n",
       "      <td>120</td>\n",
       "      <td>16.637094</td>\n",
       "    </tr>\n",
       "    <tr>\n",
       "      <th>Latino</th>\n",
       "      <td>121</td>\n",
       "      <td>16.850340</td>\n",
       "    </tr>\n",
       "    <tr>\n",
       "      <th>Latino</th>\n",
       "      <td>122</td>\n",
       "      <td>16.997026</td>\n",
       "    </tr>\n",
       "  </tbody>\n",
       "</table>\n",
       "<p>123 rows × 2 columns</p>\n",
       "</div>"
      ],
      "text/plain": [
       "                   day   one_dose\n",
       "demographic_value                \n",
       "Latino               0   0.000558\n",
       "Latino               1   0.005556\n",
       "Latino               2   0.024152\n",
       "Latino               3   0.052567\n",
       "Latino               4   0.068212\n",
       "...                ...        ...\n",
       "Latino             118  16.119580\n",
       "Latino             119  16.407799\n",
       "Latino             120  16.637094\n",
       "Latino             121  16.850340\n",
       "Latino             122  16.997026\n",
       "\n",
       "[123 rows x 2 columns]"
      ]
     },
     "execution_count": 202,
     "metadata": {},
     "output_type": "execute_result"
    }
   ],
   "source": [
    "latino_df['administered_date'] = pd.to_datetime(latino_df['administered_date'])\n",
    "latino_df['day'] = (latino_df['administered_date'] - latino_df.iloc[-1]['administered_date']).dt.days\n",
    "latino_df['one_dose'] = (((latino_df['cumulative_at_least_one_dose'] / 39512000 * 100) / 0.816) /0.7)\n",
    "latino_df = latino_df.drop(columns=['cumulative_at_least_one_dose', 'administered_date'])\n",
    "latino_df = latino_df.iloc[::-1]\n",
    "\n",
    "latino_df"
   ]
  },
  {
   "cell_type": "code",
   "execution_count": 203,
   "id": "marine-green",
   "metadata": {},
   "outputs": [
    {
     "data": {
      "text/html": [
       "<div>\n",
       "<style scoped>\n",
       "    .dataframe tbody tr th:only-of-type {\n",
       "        vertical-align: middle;\n",
       "    }\n",
       "\n",
       "    .dataframe tbody tr th {\n",
       "        vertical-align: top;\n",
       "    }\n",
       "\n",
       "    .dataframe thead th {\n",
       "        text-align: right;\n",
       "    }\n",
       "</style>\n",
       "<table border=\"1\" class=\"dataframe\">\n",
       "  <thead>\n",
       "    <tr style=\"text-align: right;\">\n",
       "      <th></th>\n",
       "      <th>day</th>\n",
       "      <th>one_dose</th>\n",
       "    </tr>\n",
       "    <tr>\n",
       "      <th>demographic_value</th>\n",
       "      <th></th>\n",
       "      <th></th>\n",
       "    </tr>\n",
       "  </thead>\n",
       "  <tbody>\n",
       "    <tr>\n",
       "      <th>Asian</th>\n",
       "      <td>0</td>\n",
       "      <td>0.001303</td>\n",
       "    </tr>\n",
       "    <tr>\n",
       "      <th>Asian</th>\n",
       "      <td>1</td>\n",
       "      <td>0.008870</td>\n",
       "    </tr>\n",
       "    <tr>\n",
       "      <th>Asian</th>\n",
       "      <td>2</td>\n",
       "      <td>0.033798</td>\n",
       "    </tr>\n",
       "    <tr>\n",
       "      <th>Asian</th>\n",
       "      <td>3</td>\n",
       "      <td>0.072014</td>\n",
       "    </tr>\n",
       "    <tr>\n",
       "      <th>Asian</th>\n",
       "      <td>4</td>\n",
       "      <td>0.093902</td>\n",
       "    </tr>\n",
       "    <tr>\n",
       "      <th>...</th>\n",
       "      <td>...</td>\n",
       "      <td>...</td>\n",
       "    </tr>\n",
       "    <tr>\n",
       "      <th>Asian</th>\n",
       "      <td>118</td>\n",
       "      <td>9.420697</td>\n",
       "    </tr>\n",
       "    <tr>\n",
       "      <th>Asian</th>\n",
       "      <td>119</td>\n",
       "      <td>9.602546</td>\n",
       "    </tr>\n",
       "    <tr>\n",
       "      <th>Asian</th>\n",
       "      <td>120</td>\n",
       "      <td>9.743330</td>\n",
       "    </tr>\n",
       "    <tr>\n",
       "      <th>Asian</th>\n",
       "      <td>121</td>\n",
       "      <td>9.875368</td>\n",
       "    </tr>\n",
       "    <tr>\n",
       "      <th>Asian</th>\n",
       "      <td>122</td>\n",
       "      <td>9.956173</td>\n",
       "    </tr>\n",
       "  </tbody>\n",
       "</table>\n",
       "<p>123 rows × 2 columns</p>\n",
       "</div>"
      ],
      "text/plain": [
       "                   day  one_dose\n",
       "demographic_value               \n",
       "Asian                0  0.001303\n",
       "Asian                1  0.008870\n",
       "Asian                2  0.033798\n",
       "Asian                3  0.072014\n",
       "Asian                4  0.093902\n",
       "...                ...       ...\n",
       "Asian              118  9.420697\n",
       "Asian              119  9.602546\n",
       "Asian              120  9.743330\n",
       "Asian              121  9.875368\n",
       "Asian              122  9.956173\n",
       "\n",
       "[123 rows x 2 columns]"
      ]
     },
     "execution_count": 203,
     "metadata": {},
     "output_type": "execute_result"
    }
   ],
   "source": [
    "asian_df['administered_date'] = pd.to_datetime(asian_df['administered_date'])\n",
    "asian_df['day'] = (asian_df['administered_date'] - asian_df.iloc[-1]['administered_date']).dt.days\n",
    "asian_df['one_dose'] = (((asian_df['cumulative_at_least_one_dose'] / 39512000 * 100) / 0.816) /0.7)\n",
    "asian_df = asian_df.drop(columns=['cumulative_at_least_one_dose', 'administered_date'])\n",
    "asian_df = asian_df.iloc[::-1]\n",
    "\n",
    "asian_df"
   ]
  },
  {
   "cell_type": "code",
   "execution_count": 204,
   "id": "certified-tulsa",
   "metadata": {},
   "outputs": [
    {
     "data": {
      "text/html": [
       "<div>\n",
       "<style scoped>\n",
       "    .dataframe tbody tr th:only-of-type {\n",
       "        vertical-align: middle;\n",
       "    }\n",
       "\n",
       "    .dataframe tbody tr th {\n",
       "        vertical-align: top;\n",
       "    }\n",
       "\n",
       "    .dataframe thead th {\n",
       "        text-align: right;\n",
       "    }\n",
       "</style>\n",
       "<table border=\"1\" class=\"dataframe\">\n",
       "  <thead>\n",
       "    <tr style=\"text-align: right;\">\n",
       "      <th></th>\n",
       "      <th>day</th>\n",
       "      <th>one_dose</th>\n",
       "    </tr>\n",
       "    <tr>\n",
       "      <th>demographic_value</th>\n",
       "      <th></th>\n",
       "      <th></th>\n",
       "    </tr>\n",
       "  </thead>\n",
       "  <tbody>\n",
       "    <tr>\n",
       "      <th>Black or African American</th>\n",
       "      <td>0</td>\n",
       "      <td>0.000182</td>\n",
       "    </tr>\n",
       "    <tr>\n",
       "      <th>Black or African American</th>\n",
       "      <td>1</td>\n",
       "      <td>0.001196</td>\n",
       "    </tr>\n",
       "    <tr>\n",
       "      <th>Black or African American</th>\n",
       "      <td>2</td>\n",
       "      <td>0.004293</td>\n",
       "    </tr>\n",
       "    <tr>\n",
       "      <th>Black or African American</th>\n",
       "      <td>3</td>\n",
       "      <td>0.009079</td>\n",
       "    </tr>\n",
       "    <tr>\n",
       "      <th>Black or African American</th>\n",
       "      <td>4</td>\n",
       "      <td>0.011866</td>\n",
       "    </tr>\n",
       "    <tr>\n",
       "      <th>...</th>\n",
       "      <td>...</td>\n",
       "      <td>...</td>\n",
       "    </tr>\n",
       "    <tr>\n",
       "      <th>Black or African American</th>\n",
       "      <td>118</td>\n",
       "      <td>2.253260</td>\n",
       "    </tr>\n",
       "    <tr>\n",
       "      <th>Black or African American</th>\n",
       "      <td>119</td>\n",
       "      <td>2.286092</td>\n",
       "    </tr>\n",
       "    <tr>\n",
       "      <th>Black or African American</th>\n",
       "      <td>120</td>\n",
       "      <td>2.313887</td>\n",
       "    </tr>\n",
       "    <tr>\n",
       "      <th>Black or African American</th>\n",
       "      <td>121</td>\n",
       "      <td>2.337857</td>\n",
       "    </tr>\n",
       "    <tr>\n",
       "      <th>Black or African American</th>\n",
       "      <td>122</td>\n",
       "      <td>2.352736</td>\n",
       "    </tr>\n",
       "  </tbody>\n",
       "</table>\n",
       "<p>123 rows × 2 columns</p>\n",
       "</div>"
      ],
      "text/plain": [
       "                           day  one_dose\n",
       "demographic_value                       \n",
       "Black or African American    0  0.000182\n",
       "Black or African American    1  0.001196\n",
       "Black or African American    2  0.004293\n",
       "Black or African American    3  0.009079\n",
       "Black or African American    4  0.011866\n",
       "...                        ...       ...\n",
       "Black or African American  118  2.253260\n",
       "Black or African American  119  2.286092\n",
       "Black or African American  120  2.313887\n",
       "Black or African American  121  2.337857\n",
       "Black or African American  122  2.352736\n",
       "\n",
       "[123 rows x 2 columns]"
      ]
     },
     "execution_count": 204,
     "metadata": {},
     "output_type": "execute_result"
    }
   ],
   "source": [
    "black_df['administered_date'] = pd.to_datetime(black_df['administered_date'])\n",
    "black_df['day'] = (black_df['administered_date'] - black_df.iloc[-1]['administered_date']).dt.days\n",
    "black_df['one_dose'] = (((black_df['cumulative_at_least_one_dose'] / 39512000 * 100) / 0.816) /0.7)\n",
    "black_df = black_df.drop(columns=['cumulative_at_least_one_dose', 'administered_date'])\n",
    "black_df = black_df.iloc[::-1]\n",
    "\n",
    "black_df"
   ]
  },
  {
   "cell_type": "code",
   "execution_count": 217,
   "id": "endless-philippines",
   "metadata": {},
   "outputs": [
    {
     "name": "stdout",
     "output_type": "stream",
     "text": [
      "[4.87879883e+01 2.94503865e-02]\n"
     ]
    },
    {
     "data": {
      "text/plain": [
       "Text(0.5, 0.98, 'Percent of White Population with At Least 1 Dose')"
      ]
     },
     "execution_count": 217,
     "metadata": {},
     "output_type": "execute_result"
    },
    {
     "data": {
      "image/png": "[encoded data removed]",
      "text/plain": [
       "<Figure size 432x288 with 1 Axes>"
      ]
     },
     "metadata": {
      "needs_background": "light"
     },
     "output_type": "display_data"
    }
   ],
   "source": [
    "def log_reg(t, a, b):\n",
    "        return 57/(1+a*np.exp(-b*t))\n",
    "    \n",
    "x = white_df['day'].values\n",
    "y = white_df['one_dose'].values\n",
    "\n",
    "popt, _ = curve_fit(log_reg, x, y)\n",
    "print(popt)\n",
    "a, b = popt\n",
    "\n",
    "plt.scatter(x, y, s=10)\n",
    "x_line = arange(min(x), 300, 1)\n",
    "y_line = log_reg(x_line, a, b)\n",
    "plt.plot(x_line, y_line, '--', color='red')\n",
    "plt.xlabel('Days (since first vaccine given)')\n",
    "plt.gca().set_ylim([0, 100])\n",
    "plt.ylabel('Percent')\n",
    "plt.suptitle('Percent of White Population with At Least 1 Dose')"
   ]
  },
  {
   "cell_type": "code",
   "execution_count": 219,
   "id": "jewish-inspection",
   "metadata": {},
   "outputs": [
    {
     "name": "stdout",
     "output_type": "stream",
     "text": [
      "[1.14589270e+02 3.26288801e-02]\n"
     ]
    },
    {
     "data": {
      "text/plain": [
       "Text(0.5, 0.98, 'Percent of Latino Population with At Least 1 Dose')"
      ]
     },
     "execution_count": 219,
     "metadata": {},
     "output_type": "execute_result"
    },
    {
     "data": {
      "image/png": "[encoded data removed]",
      "text/plain": [
       "<Figure size 432x288 with 1 Axes>"
      ]
     },
     "metadata": {
      "needs_background": "light"
     },
     "output_type": "display_data"
    }
   ],
   "source": [
    "x = latino_df['day'].values\n",
    "y = latino_df['one_dose'].values\n",
    "\n",
    "popt, _ = curve_fit(log_reg, x, y)\n",
    "print(popt)\n",
    "a, b = popt\n",
    "\n",
    "plt.scatter(x, y, s=10)\n",
    "x_line = arange(min(x), 300, 1)\n",
    "y_line = log_reg(x_line, a, b)\n",
    "plt.plot(x_line, y_line, '--', color='red')\n",
    "plt.xlabel('Days (since first vaccine given)')\n",
    "plt.gca().set_ylim([0, 100])\n",
    "plt.ylabel('Percent')\n",
    "plt.suptitle('Percent of Latino Population with At Least 1 Dose')"
   ]
  },
  {
   "cell_type": "code",
   "execution_count": 223,
   "id": "korean-elder",
   "metadata": {},
   "outputs": [
    {
     "name": "stdout",
     "output_type": "stream",
     "text": [
      "[1.10228334e+02 2.63615525e-02]\n"
     ]
    },
    {
     "data": {
      "text/plain": [
       "Text(0.5, 0.98, 'Percent of Asian Population with At Least 1 Dose')"
      ]
     },
     "execution_count": 223,
     "metadata": {},
     "output_type": "execute_result"
    },
    {
     "data": {
      "image/png": "[encoded data removed]",
      "text/plain": [
       "<Figure size 432x288 with 1 Axes>"
      ]
     },
     "metadata": {
      "needs_background": "light"
     },
     "output_type": "display_data"
    }
   ],
   "source": [
    "x = asian_df['day'].values\n",
    "y = asian_df['one_dose'].values\n",
    "\n",
    "popt, _ = curve_fit(log_reg, x, y)\n",
    "print(popt)\n",
    "a, b = popt\n",
    "\n",
    "plt.scatter(x, y, s=10)\n",
    "x_line = arange(min(x), 350, 1)\n",
    "y_line = log_reg(x_line, a, b)\n",
    "plt.plot(x_line, y_line, '--', color='red')\n",
    "plt.xlabel('Days (since first vaccine given)')\n",
    "plt.gca().set_ylim([0, 100])\n",
    "plt.ylabel('Percent')\n",
    "plt.suptitle('Percent of Asian Population with At Least 1 Dose')"
   ]
  },
  {
   "cell_type": "code",
   "execution_count": 222,
   "id": "clean-veteran",
   "metadata": {},
   "outputs": [
    {
     "name": "stdout",
     "output_type": "stream",
     "text": [
      "[4.58353453e+02 2.53784410e-02]\n"
     ]
    },
    {
     "data": {
      "text/plain": [
       "Text(0.5, 0.98, 'Percent of Black Population with At Least 1 Dose')"
      ]
     },
     "execution_count": 222,
     "metadata": {},
     "output_type": "execute_result"
    },
    {
     "data": {
      "image/png": "[encoded data removed]",
      "text/plain": [
       "<Figure size 432x288 with 1 Axes>"
      ]
     },
     "metadata": {
      "needs_background": "light"
     },
     "output_type": "display_data"
    }
   ],
   "source": [
    "x = black_df['day'].values\n",
    "y = black_df['one_dose'].values\n",
    "\n",
    "popt, _ = curve_fit(log_reg, x, y)\n",
    "print(popt)\n",
    "a, b = popt\n",
    "\n",
    "plt.scatter(x, y, s=10)\n",
    "x_line = arange(min(x), 400, 1)\n",
    "y_line = log_reg(x_line, a, b)\n",
    "plt.plot(x_line, y_line, '--', color='red')\n",
    "plt.xlabel('Days (since first vaccine given)')\n",
    "plt.gca().set_ylim([0, 100])\n",
    "plt.ylabel('Percent')\n",
    "plt.suptitle('Percent of Black Population with At Least 1 Dose')"
   ]
  },
  {
   "cell_type": "code",
   "execution_count": null,
   "id": "vertical-jungle",
   "metadata": {},
   "outputs": [],
   "source": [
    "x = np.array(white_df['day'].values)\n",
    "x = x.reshape([1, len(x)])\n",
    "y = np.array(white_df['one_dose'].values)\n",
    "y = y.reshape([1, len(y)])\n",
    "print(x, y)\n",
    "\n",
    "x = np.array(white_df['day'].values)\n",
    "x = x.reshape([len(x), 1])\n",
    "y = white_df['one_dose'].values\n",
    "\n",
    "gam = LogisticGAM().fit(x, y)\n",
    "gam.summary()\n",
    "\n",
    "# lams = np.random.rand(100, 11)\n",
    "# lams = lams * 11 - 3\n",
    "# lams = np.exp(lams)\n",
    "# print(lams.shape)\n",
    "# gam = LogisticGAM(n_splines=10).gridsearch(x, y)"
   ]
  }
 ],
 "metadata": {
  "kernelspec": {
   "display_name": "Python 3",
   "language": "python",
   "name": "python3"
  },
  "language_info": {
   "codemirror_mode": {
    "name": "ipython",
    "version": 3
   },
   "file_extension": ".py",
   "mimetype": "text/x-python",
   "name": "python",
   "nbconvert_exporter": "python",
   "pygments_lexer": "ipython3",
   "version": "3.9.1"
  }
 },
 "nbformat": 4,
 "nbformat_minor": 5
}
